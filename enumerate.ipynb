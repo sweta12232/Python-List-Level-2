{
 "cells": [
  {
   "cell_type": "markdown",
   "id": "e9413d55",
   "metadata": {},
   "source": [
    "# enumerate"
   ]
  },
  {
   "cell_type": "markdown",
   "id": "f255d2e6",
   "metadata": {},
   "source": [
    "enumerate is a built-in Python function that allows us to loop over an iterable (like a list, tuple, or string) while also keeping track of the index of each item in the iterable.\n",
    "\n",
    "**Syntax:** enumerate(iterable, start=0)\n",
    "\n",
    "**Parameters:**\n",
    "1. iterable: The sequence (list, tuple, string, etc.) that we want to iterate over.\n",
    "2. start: (Optional) The index value from which the enumeration should start. Default is 0.\n",
    "**Returns:** An enumerate object, which is an iterator that yields pairs of (index, value), where index is the index of the item in the iterable, and value is the actual item from the iterable."
   ]
  },
  {
   "cell_type": "code",
   "execution_count": null,
   "id": "1fc77ff5",
   "metadata": {},
   "outputs": [],
   "source": [
    "# Let's say we have a list of fruits\n",
    "fruits = ['apple', 'banana', 'orange', 'grape']\n",
    "\n",
    "# We want to print each fruit along with its index\n",
    "for index, fruit in enumerate(fruits):\n",
    "    print(index, fruit)"
   ]
  },
  {
   "cell_type": "code",
   "execution_count": null,
   "id": "e167e722",
   "metadata": {},
   "outputs": [],
   "source": [
    "# Let's say we have a list of fruits\n",
    "fruits = ['apple', 'banana', 'orange', 'grape']\n",
    "\n",
    "# We want to print each fruit without using the index\n",
    "for fruit in enumerate(fruits):\n",
    "    print(\"Fruit:\", fruit[1])  # fruit[1] contains the value of the current item"
   ]
  },
  {
   "cell_type": "code",
   "execution_count": null,
   "id": "509684a5",
   "metadata": {},
   "outputs": [],
   "source": [
    "list = [18,2,1,2,9,7,5,1,2]\n",
    "for index, list in enumerate(list):\n",
    "    print(list)"
   ]
  },
  {
   "cell_type": "code",
   "execution_count": null,
   "id": "01de96c2",
   "metadata": {},
   "outputs": [],
   "source": [
    "string = \"SWETA\"\n",
    "for index,even in enumerate(string):\n",
    "    if index % 2 == 0:\n",
    "        print(even)"
   ]
  },
  {
   "cell_type": "code",
   "execution_count": null,
   "id": "1b54025a",
   "metadata": {},
   "outputs": [],
   "source": [
    "list = [\"Ball\", \"Doll\", \"Truck\", \"chocolate\"]\n",
    "choice = \"Ball\"\n",
    "for index,lists in enumerate(list):\n",
    "    if lists == \"Ball\":\n",
    "        print(index)"
   ]
  },
  {
   "cell_type": "code",
   "execution_count": null,
   "id": "af624455",
   "metadata": {},
   "outputs": [],
   "source": [
    "foods = ['naan','keemanoodles','momo','laphing']\n",
    "index_replace = 0\n",
    "value = \"Sausage\"\n",
    "\n",
    "for index, food in enumerate(foods):\n",
    "    if index == index_replace:\n",
    "        foods[index] = value\n",
    "\n",
    "print(foods)"
   ]
  },
  {
   "cell_type": "code",
   "execution_count": null,
   "id": "c8176560",
   "metadata": {},
   "outputs": [],
   "source": [
    "foods = ['naan','keemanoodles','momo','laphing']\n",
    "for index, food in enumerate(foods[1:], start=1):\n",
    "    print(f\"{index},  {food}\")"
   ]
  },
  {
   "cell_type": "code",
   "execution_count": null,
   "id": "f584b042",
   "metadata": {},
   "outputs": [],
   "source": []
  }
 ],
 "metadata": {
  "kernelspec": {
   "display_name": "Python 3 (ipykernel)",
   "language": "python",
   "name": "python3"
  },
  "language_info": {
   "codemirror_mode": {
    "name": "ipython",
    "version": 3
   },
   "file_extension": ".py",
   "mimetype": "text/x-python",
   "name": "python",
   "nbconvert_exporter": "python",
   "pygments_lexer": "ipython3",
   "version": "3.9.12"
  }
 },
 "nbformat": 4,
 "nbformat_minor": 5
}
